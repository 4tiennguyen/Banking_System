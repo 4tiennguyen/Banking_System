{
 "cells": [
  {
   "cell_type": "code",
   "execution_count": 1,
   "id": "da1f6da9",
   "metadata": {},
   "outputs": [],
   "source": [
    "import json\n",
    "import random\n",
    "import pandas as pd\n",
    "import pymysql\n",
    "from faker import Faker\n",
    "from datetime import datetime, timedelta,time \n",
    "from dateutil.relativedelta import relativedelta  # Import relativedelta for date calculations\n",
    "from dateutil.parser import parse  # Import parse for date string to datetime conversion\n",
    "import pymysql"
   ]
  },
  {
   "cell_type": "code",
   "execution_count": 2,
   "id": "16456860",
   "metadata": {},
   "outputs": [],
   "source": [
    "with open('C:/Users/tttie/OneDrive/Documents/CS 257/simulatedData/person_data.json', 'r', encoding='utf-8') as json_file:\n",
    "    person_data = json.load(json_file)\n",
    "    person_df = pd.DataFrame(person_data)\n",
    "    person_df['DOB'] = pd.to_datetime(person_df['DOB'])\n",
    "\n",
    "with open('C:/Users/tttie/OneDrive/Documents/CS 257/simulatedData/account_data.json', 'r', encoding='utf-8') as json_file:\n",
    "    account_data = json.load(json_file)\n",
    "    account_df = pd.DataFrame(account_data)\n",
    "    account_df['DateOpen'] = pd.to_datetime(account_df['DateOpen'])\n",
    "    account_df['DateClose'] = pd.to_datetime(account_df['DateClose'])\n",
    "\n",
    "with open('C:/Users/tttie/OneDrive/Documents/CS 257/simulatedData/transactions_data.json', 'r', encoding='utf-8') as json_file:\n",
    "    transactions_data = json.load(json_file)\n",
    "    transactions_df = pd.DataFrame(transactions_data)\n",
    "    transactions_df['TransactionDate'] = pd.to_datetime(transactions_df['TransactionDate'])\n",
    "with open('C:/Users/tttie/OneDrive/Documents/CS 257/simulatedData/branch_data.json', 'r', encoding='utf-8') as json_file:\n",
    "    branch_data = json.load(json_file)\n",
    "    branch_df = pd.DataFrame(branch_data)\n",
    "\n",
    "with open('C:/Users/tttie/OneDrive/Documents/CS 257/simulatedData/employees_data.json', 'r', encoding='utf-8') as json_file:\n",
    "    employees_data = json.load(json_file)\n",
    "    employees_df = pd.DataFrame(employees_data)\n",
    "\n"
   ]
  },
  {
   "cell_type": "code",
   "execution_count": 12,
   "id": "e784cf84",
   "metadata": {},
   "outputs": [
    {
     "name": "stdout",
     "output_type": "stream",
     "text": [
      "Data inserted successfully.\n"
     ]
    }
   ],
   "source": [
    "connection = pymysql.connect(\n",
    "    host='localhost',\n",
    "    user='root',  # enter your username\n",
    "    password='Bibo181999!',  # enter your password \n",
    "    database='banking_system'\n",
    ")\n",
    "data_frames = {\n",
    "    'Person': person_df,\n",
    "    'Account': account_df,\n",
    "    'Transaction': transactions_df,\n",
    "    'Branch': branch_df,\n",
    "    'Employee': employees_df\n",
    "}\n",
    "try:\n",
    "    with connection.cursor() as cursor:\n",
    "        for table_name, df in data_frames.items():\n",
    "            for idx, row in df.iterrows():\n",
    "                # Replace NaT values with None or a default date\n",
    "                row = row.where(pd.notnull(row), None)  # Replaces NaT with None\n",
    "\n",
    "                placeholders = ', '.join(['%s'] * len(row))\n",
    "                columns = ', '.join(row.index)\n",
    "                sql = f\"INSERT INTO {table_name} ({columns}) VALUES ({placeholders})\"\n",
    "                cursor.execute(sql, tuple(row))\n",
    "\n",
    "    connection.commit()\n",
    "    print(\"Data inserted successfully.\")\n",
    "\n",
    "except Exception as e:\n",
    "    print(\"Error:\", e)\n",
    "    connection.rollback()\n",
    "\n",
    "finally:\n",
    "    connection.close()\n",
    "\n"
   ]
  }
 ],
 "metadata": {
  "kernelspec": {
   "display_name": "Python 3 (ipykernel)",
   "language": "python",
   "name": "python3"
  },
  "language_info": {
   "codemirror_mode": {
    "name": "ipython",
    "version": 3
   },
   "file_extension": ".py",
   "mimetype": "text/x-python",
   "name": "python",
   "nbconvert_exporter": "python",
   "pygments_lexer": "ipython3",
   "version": "3.9.7"
  }
 },
 "nbformat": 4,
 "nbformat_minor": 5
}
