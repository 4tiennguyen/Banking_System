{
 "cells": [
  {
   "cell_type": "code",
   "execution_count": 1,
   "id": "8a153d6f",
   "metadata": {},
   "outputs": [
    {
     "name": "stdout",
     "output_type": "stream",
     "text": [
      "Requirement already satisfied: mysql_connector_python in /Users/francisdavidbustos/anaconda3/lib/python3.11/site-packages (8.2.0)\n",
      "Requirement already satisfied: protobuf<=4.21.12,>=4.21.1 in /Users/francisdavidbustos/anaconda3/lib/python3.11/site-packages (from mysql_connector_python) (4.21.12)\n",
      "Note: you may need to restart the kernel to use updated packages.\n"
     ]
    }
   ],
   "source": [
    "pip install mysql_connector_python"
   ]
  },
  {
   "cell_type": "code",
   "execution_count": 4,
   "id": "18d1e512",
   "metadata": {},
   "outputs": [],
   "source": [
    "import mysql.connector\n",
    "import pandas as pd"
   ]
  },
  {
   "cell_type": "code",
   "execution_count": 5,
   "id": "27e622e2",
   "metadata": {},
   "outputs": [],
   "source": [
    "src = mysql.connector.connect(user='root', password='', host='localhost', database='bankdb')\n",
    "cursor = db.cursor(dictionary = True)"
   ]
  },
  {
   "cell_type": "code",
   "execution_count": null,
   "id": "69a967c4",
   "metadata": {},
   "outputs": [],
   "source": [
    "# COPY TABLE NAMES INTO AN ARRAY\n",
    "query = \"SELECT table_name FROM information_schema.tables WHERE table_type = 'BASE TABLE' AND table_schema = 'bankdb';\"\n",
    "cursor.execute(query)\n",
    "info = cursor.fetchall()"
   ]
  },
  {
   "cell_type": "code",
   "execution_count": null,
   "id": "d39b5265",
   "metadata": {},
   "outputs": [],
   "source": [
    "# COPY EVERYTHING INTO A DATAFRAME\n",
    "dst = mysql.connector.connect(user='', password='', host='', database='')\n",
    "for i in info:\n",
    "    query = 'SELECT * FROM ' + i[0] + ';'\n",
    "    df = pd.read_sql(query, src)\n",
    "    df.to_sql(name=i[0], con=dst, index=False, if_exists='replace')\n",
    "dst.commit()\n",
    "dst.close()"
   ]
  },
  {
   "cell_type": "code",
   "execution_count": null,
   "id": "d2e018ec",
   "metadata": {},
   "outputs": [],
   "source": [
    "# FUNCTION\n",
    "def db_backup():\n",
    "    #COPY TABLE NAMES INTO AN ARRAY\n",
    "    query = \"SELECT table_name FROM information_schema.tables WHERE table_type = 'BASE TABLE' AND table_schema = 'bankdb';\"\n",
    "    cursor.execute(query)\n",
    "    info = cursor.fetchall()\n",
    "    # COPY EVERYTHING INTO A DATAFRAME\n",
    "    dst = mysql.connector.connect(user='', password='', host='', database='')\n",
    "    for i in info:\n",
    "        query = 'SELECT * FROM ' + i[0] + ';'\n",
    "        df = pd.read_sql(query, src)\n",
    "        df.to_sql(name=i[0], con=dst, index=False, if_exists='replace')\n",
    "    dst.commit()\n",
    "    dst.close()"
   ]
  }
 ],
 "metadata": {
  "kernelspec": {
   "display_name": "Python 3 (ipykernel)",
   "language": "python",
   "name": "python3"
  },
  "language_info": {
   "codemirror_mode": {
    "name": "ipython",
    "version": 3
   },
   "file_extension": ".py",
   "mimetype": "text/x-python",
   "name": "python",
   "nbconvert_exporter": "python",
   "pygments_lexer": "ipython3",
   "version": "3.11.5"
  }
 },
 "nbformat": 4,
 "nbformat_minor": 5
}
