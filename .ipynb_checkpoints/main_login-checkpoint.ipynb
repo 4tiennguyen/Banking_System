{
 "cells": [
  {
   "cell_type": "code",
   "execution_count": 6,
   "id": "0980c54e",
   "metadata": {},
   "outputs": [
    {
     "name": "stdout",
     "output_type": "stream",
     "text": [
      "Requirement already satisfied: mysql_connector_python in /Users/francisdavidbustos/anaconda3/lib/python3.11/site-packages (8.2.0)\n",
      "Requirement already satisfied: protobuf<=4.21.12,>=4.21.1 in /Users/francisdavidbustos/anaconda3/lib/python3.11/site-packages (from mysql_connector_python) (4.21.12)\n",
      "Note: you may need to restart the kernel to use updated packages.\n"
     ]
    }
   ],
   "source": [
    "pip install mysql_connector_python"
   ]
  },
  {
   "cell_type": "code",
   "execution_count": 7,
   "id": "b0662ae9",
   "metadata": {},
   "outputs": [],
   "source": [
    "import mysql.connector"
   ]
  },
  {
   "cell_type": "code",
   "execution_count": 8,
   "id": "91bf36fe",
   "metadata": {},
   "outputs": [],
   "source": [
    "db = mysql.connector.connect(user='root', password='', host='localhost', database='bankdb')\n",
    "cursor = db.cursor(dictionary = True)"
   ]
  },
  {
   "cell_type": "code",
   "execution_count": 20,
   "id": "e211577a",
   "metadata": {},
   "outputs": [
    {
     "name": "stdout",
     "output_type": "stream",
     "text": [
      "type 'login' or 'signup'login\n",
      "Email: test@test.test\n",
      "Password: testpw\n",
      "[{'Password': 'testpw', 'Email': 'test@test.test'}]\n",
      "test@test.test\n"
     ]
    }
   ],
   "source": [
    "### LOGIN\n",
    "### STILL HAVE TO TAKE INTO CONSIDERATION HAVING MULTIPLE ACCOUNTS\n",
    "req = input(\"type 'login' or 'signup'\")\n",
    "while (req != 'login' and req != 'signup'):\n",
    "    print(\"Invalid input. Please enter 'login' or 'signup'.\")\n",
    "    phase1a = input(\"type 'login or 'signup'\")\n",
    "        \n",
    "em = input(\"Email: \").lower()\n",
    "pw = input(\"Password: \")\n",
    "loggedin = False\n",
    "\n",
    "if (req == \"login\"):\n",
    "    query = \"SELECT * FROM login_data WHERE Email = '\" + em + \"' AND Password = '\" + pw + \"';\"\n",
    "    try:\n",
    "        cursor.execute(query)\n",
    "        info = cursor.fetchall()\n",
    "        print(info)\n",
    "        if (len(info) == 0):\n",
    "            print(\"No user found.\")\n",
    "        else:\n",
    "            print(\"Logged In\")\n",
    "        loggedin = True\n",
    "    except:\n",
    "        print(\"DB Error\")\n",
    "        \n",
    "elif (req == \"signup\"):\n",
    "    try:\n",
    "        query = \"INSERT INTO login_data (Email, Password) VALUES ('\" + em + \"', '\" + pw + \"');\"\n",
    "        cursor.execute(query)\n",
    "        loggedin = True\n",
    "    except:\n",
    "        print(\"Insert Error.\")\n",
    "        \n",
    "else:\n",
    "        print(\"req error.\")"
   ]
  },
  {
   "cell_type": "code",
   "execution_count": null,
   "id": "d0b0f2ac",
   "metadata": {},
   "outputs": [],
   "source": [
    "### VIEW ACCOUNT BALANCE AND TRANSACTIONS\n",
    "### STILL HAVE TO TAKE INTO CONSIDERATION HAVING MULTIPLE ACCOUNTS.\n",
    "if loggedin == True:\n",
    "    req = input(\"How many days of transactions do you want to view?\")\n",
    "    query = ''\n",
    "    #query = \"SELECT * FROM transaction_data WHERE AccountID = (SELECT AccountID FROM account_data WHERE PeronID = (SELECT PersonID FROM person_data WHERE Email = '\" + em + \"')) ORDER BY timestamp ASC LIMIT 5;\"\n",
    "    try: \n",
    "        cursor.execute(query)\n",
    "        info = cursor.fetchall()\n",
    "        \n",
    "        if (len(info) == 0):\n",
    "            print(\"No transactions found.\")\n",
    "        else:\n",
    "            for i in info:\n",
    "                print(i['TransactionDate'] + \" | \" + i['TransactionType'] + \" | \" + i['Amount'] + \" | \" + i['AccountID'])\n",
    "    except:\n",
    "        print(\"Transaction error\")\n",
    "    \n",
    "    query = \"SELECT CurrentBalance FROM account_data WHERE AccountID = (SELECT PersonID FROM person_data WHERE Email = '\" + em + \"')\"\n",
    "    try:\n",
    "        cursor.execute(query)\n",
    "        info = cursor.fetchall()\n",
    "        \n",
    "        for i in info:\n",
    "            if i['CurrentBalance'] < 500:\n",
    "                print(\"You have less than $500.00 in an account. Please add more to not be charged a fee this month.\")\n",
    "            else:\n",
    "                print(i['AccountNumber'] + \": \" + i['CurrentBalance'])\n",
    "\n",
    "req = input(\"\")"
   ]
  },
  {
   "cell_type": "code",
   "execution_count": null,
   "id": "826ddccb",
   "metadata": {},
   "outputs": [],
   "source": [
    "### UPDATE PERSONAL INFORMATION\n",
    "query = \"SELECT * FROM person_data WHERE Email = '\" + em + \"';\n",
    "try:\n",
    "    cursor.execute(query)\n",
    "    info = cursor.fetchall()\n",
    "    \n",
    "    if (len(info) == 0):\n",
    "        print(\"No person found.\")\n",
    "    else:\n",
    "        for i in info:\n",
    "            print(i['Email'] + \" | \" + i['PhoneNumber'] + \" | \" + i['Address'] + \" | \" + i['Name'] + \" | \" + i['DOB'])\n",
    "\n",
    "    req = input(\"What would you like to update? \").lower()\n",
    "    if req == 'email':\n",
    "        inp = input(\"Enter new email address: \").lower()\n",
    "        query = \"UPDATE person_data SET Email = '\" + inp + \"' WHERE Email = '\" + em + \"';\"\n",
    "        \n",
    "        try:\n",
    "            cursor.execute(query)\n",
    "        except:\n",
    "            print(\"Update error.\")\n",
    "            \n",
    "    elif req == 'phone number':\n",
    "        inp = input(\"Enter new phone number: \")\n",
    "        query = \"UPDATE person_data SET PhoneNumber = '\" + inp + \"' WHERE PhoneNumber = '\" + info[0]['PhoneNumber'] + \"';\"\n",
    "        \n",
    "        try:\n",
    "            cursor.execute(query)\n",
    "        except:\n",
    "            print(\"Update error.\")\n",
    "            \n",
    "    elif req == 'address':\n",
    "        inp = input(\"Enter new address: \")\n",
    "        query = \"UPDATE person_data SET Address = '\" + inp + \"' WHERE Address = '\" + info[0]['Address'] + \"';\"\n",
    "        \n",
    "        try:\n",
    "            cursor.execute(query)\n",
    "        except:\n",
    "            print(\"Update error.\")\n",
    "            \n",
    "    elif req == 'name':\n",
    "        inp = input(\"Enter new name: \")\n",
    "        query = \"UPDATE person_data SET Name = '\" + inp + \"' WHERE Name = '\" + info[0]['Name'] + \"';\"\n",
    "        \n",
    "        try:\n",
    "            cursor.execute(query)\n",
    "        except:\n",
    "            print(\"Update error.\")\n",
    "            \n",
    "except:\n",
    "    print(\"Person not found.\")\n",
    "    \n",
    "def update_profile(action, oldInfo):\n",
    "    while action:\n",
    "        if action == 'email':\n",
    "            inp = input(\"Enter new E-Mail: \").lower()\n",
    "            try:\n",
    "                cursor.execute(\"UPDATE person_data SET Email = %s WHERE Email = %s\", inp, oldInfo['Email'])\n",
    "            except:\n",
    "                print(\"Update error\")\n",
    "        elif action == 'phone number':\n",
    "            inp = input(\"Enter new phone number: \")\n",
    "            try:\n",
    "                cursor.execute(\"UPDATE person_data SET PhoneNumber = %s WHERE PhoneNumber = %s\", inp, oldInfo['PhoneNumber'])\n",
    "            except:\n",
    "                print(\"Update error\")\n",
    "        elif action == \"address\":\n",
    "            inp = input(\"Enter new address: \")\n",
    "            try:\n",
    "                cursor.execute(\"UPDATE person_data SET Address %s WHERE Address = %s\", inp, oldInfo['Address'])\n",
    "            except:\n",
    "                print(\"Update error\")\n",
    "        elif action == \"name\":\n",
    "            inp = input(\"Enter new name: \")\n",
    "            try:\n",
    "                cursor.execute(\"UPDATE person_data SET Name %s WHERE Name = %s\", inp, oldInfo['Name'])\n",
    "            except:\n",
    "                print(\"Update error\")\n",
    "        elif action == '':\n",
    "            break\n",
    "        else:\n",
    "            print(\"Invalid action.\")\n",
    "            action = input(\"Would you like to update your email, phone number, address, or name? Leave blank to cancel. \")"
   ]
  },
  {
   "cell_type": "code",
   "execution_count": null,
   "id": "8728e634",
   "metadata": {},
   "outputs": [],
   "source": [
    "### Deposit, Transfer, Withdraw Transactions\n"
   ]
  }
 ],
 "metadata": {
  "kernelspec": {
   "display_name": "Python 3 (ipykernel)",
   "language": "python",
   "name": "python3"
  },
  "language_info": {
   "codemirror_mode": {
    "name": "ipython",
    "version": 3
   },
   "file_extension": ".py",
   "mimetype": "text/x-python",
   "name": "python",
   "nbconvert_exporter": "python",
   "pygments_lexer": "ipython3",
   "version": "3.11.5"
  }
 },
 "nbformat": 4,
 "nbformat_minor": 5
}
