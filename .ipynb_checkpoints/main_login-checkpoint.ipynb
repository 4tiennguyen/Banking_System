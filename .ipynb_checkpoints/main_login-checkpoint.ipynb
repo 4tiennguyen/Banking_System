{
 "cells": [
  {
   "cell_type": "code",
   "execution_count": 31,
   "id": "0980c54e",
   "metadata": {
    "scrolled": true
   },
   "outputs": [
    {
     "name": "stdout",
     "output_type": "stream",
     "text": [
      "Requirement already satisfied: mysql_connector_python in /Users/francisdavidbustos/anaconda3/lib/python3.11/site-packages (8.2.0)\n",
      "Requirement already satisfied: protobuf<=4.21.12,>=4.21.1 in /Users/francisdavidbustos/anaconda3/lib/python3.11/site-packages (from mysql_connector_python) (4.21.12)\n",
      "Note: you may need to restart the kernel to use updated packages.\n"
     ]
    }
   ],
   "source": [
    "pip install mysql_connector_python"
   ]
  },
  {
   "cell_type": "code",
   "execution_count": 32,
   "id": "b0662ae9",
   "metadata": {},
   "outputs": [],
   "source": [
    "import mysql.connector"
   ]
  },
  {
   "cell_type": "code",
   "execution_count": 33,
   "id": "91bf36fe",
   "metadata": {},
   "outputs": [],
   "source": [
    "db = mysql.connector.connect(user='root', password='', host='localhost', database='bankdb')\n",
    "cursor = db.cursor(dictionary = True)"
   ]
  },
  {
   "cell_type": "code",
   "execution_count": 25,
   "id": "e211577a",
   "metadata": {},
   "outputs": [
    {
     "name": "stdout",
     "output_type": "stream",
     "text": [
      "type 'login' or 'signup'login\n",
      "Email: test@test.test\n",
      "Password: testpw\n",
      "[{'Password': 'testpw', 'Email': 'test@test.test'}]\n",
      "Logged In\n"
     ]
    }
   ],
   "source": [
    "### LOGIN\n",
    "### STILL HAVE TO TAKE INTO CONSIDERATION HAVING MULTIPLE ACCOUNTS\n",
    "req = input(\"type 'login' or 'signup'\")\n",
    "while (req != 'login' and req != 'signup'):\n",
    "    print(\"Invalid input. Please enter 'login' or 'signup'.\")\n",
    "    phase1a = input(\"type 'login or 'signup'\")\n",
    "        \n",
    "em = input(\"Email: \").lower()\n",
    "pw = input(\"Password: \")\n",
    "loggedin = False\n",
    "\n",
    "if (req == \"login\"):\n",
    "    query = \"SELECT * FROM login_data WHERE Email = '\" + em + \"' AND Password = '\" + pw + \"';\"\n",
    "    try:\n",
    "        cursor.execute(query)\n",
    "        info = cursor.fetchall()\n",
    "        print(info)\n",
    "        if (len(info) == 0):\n",
    "            print(\"No user found.\")\n",
    "        else:\n",
    "            print(\"Logged In\")\n",
    "        loggedin = True\n",
    "    except:\n",
    "        print(\"DB Error\")\n",
    "        \n",
    "elif (req == \"signup\"):\n",
    "    try:\n",
    "        query = \"INSERT INTO login_data (Email, Password) VALUES ('\" + em + \"', '\" + pw + \"');\"\n",
    "        cursor.execute(query)\n",
    "        loggedin = True\n",
    "    except:\n",
    "        print(\"Insert Error.\")\n",
    "        \n",
    "else:\n",
    "        print(\"req error.\")"
   ]
  },
  {
   "cell_type": "code",
   "execution_count": 27,
   "id": "d0b0f2ac",
   "metadata": {},
   "outputs": [
    {
     "name": "stdout",
     "output_type": "stream",
     "text": [
      "How many days of transactions do you want to view?1\n",
      "No transactions found.\n",
      "Select error\n",
      "30\n"
     ]
    }
   ],
   "source": [
    "### VIEW ACCOUNT BALANCE AND TRANSACTIONS\n",
    "### STILL HAVE TO TAKE INTO CONSIDERATION HAVING MULTIPLE ACCOUNTS.\n",
    "if loggedin == True:\n",
    "    req = input(\"How many days of transactions do you want to view?\")\n",
    "    query = ''\n",
    "    query = \"SELECT * FROM transaction_data WHERE AccountID = (SELECT AccountID FROM account_data WHERE PeronID = (SELECT PersonID FROM person_data WHERE Email = '\" + em + \"')) ORDER BY timestamp ASC LIMIT \" + req + \";\"\n",
    "    try: \n",
    "        cursor.execute(query)\n",
    "        info = cursor.fetchall()\n",
    "        \n",
    "        if (len(info) == 0):\n",
    "            print(\"No transactions found.\")\n",
    "        else:\n",
    "            for i in info:\n",
    "                print(i['TransactionDate'] + \" | \" + i['TransactionType'] + \" | \" + i['Amount'] + \" | \" + i['AccountID'])\n",
    "    except:\n",
    "        print(\"Transaction error\")\n",
    "    \n",
    "    query = \"SELECT CurrentBalance FROM account_data WHERE AccountID = (SELECT PersonID FROM person_data WHERE Email = '\" + em + \"')\"\n",
    "    try:\n",
    "        cursor.execute(query)\n",
    "        info = cursor.fetchall()\n",
    "        \n",
    "        for i in info:\n",
    "            if i['CurrentBalance'] < 500:\n",
    "                print(\"You have less than $500.00 in an account. Please add more to not be charged a fee this month.\")\n",
    "            else:\n",
    "                print(i['AccountNumber'] + \": \" + i['CurrentBalance'])\n",
    "    except:\n",
    "        print(\"Select error\")\n",
    "req = input(\"\")"
   ]
  },
  {
   "cell_type": "code",
   "execution_count": 29,
   "id": "826ddccb",
   "metadata": {},
   "outputs": [
    {
     "name": "stdout",
     "output_type": "stream",
     "text": [
      "Person not found.\n"
     ]
    }
   ],
   "source": [
    "### UPDATE PERSONAL INFORMATION\n",
    "query = \"SELECT * FROM person_data WHERE Email = '\" + em + \"';\"\n",
    "try:\n",
    "    cursor.execute(query)\n",
    "    info = cursor.fetchall()\n",
    "    \n",
    "    if (len(info) == 0):\n",
    "        print(\"No person found.\")\n",
    "    else:\n",
    "        for i in info:\n",
    "            print(i['Email'] + \" | \" + i['PhoneNumber'] + \" | \" + i['Address'] + \" | \" + i['Name'] + \" | \" + i['DOB'])\n",
    "\n",
    "    req = input(\"What would you like to update? \").lower()\n",
    "    if req == 'email':\n",
    "        inp = input(\"Enter new email address: \").lower()\n",
    "        query = \"UPDATE person_data SET Email = '\" + inp + \"' WHERE Email = '\" + em + \"';\"\n",
    "        \n",
    "        try:\n",
    "            cursor.execute(query)\n",
    "        except:\n",
    "            print(\"Update error.\")\n",
    "            \n",
    "    elif req == 'phone number':\n",
    "        inp = input(\"Enter new phone number: \")\n",
    "        query = \"UPDATE person_data SET PhoneNumber = '\" + inp + \"' WHERE PhoneNumber = '\" + info[0]['PhoneNumber'] + \"';\"\n",
    "        \n",
    "        try:\n",
    "            cursor.execute(query)\n",
    "        except:\n",
    "            print(\"Update error.\")\n",
    "            \n",
    "    elif req == 'address':\n",
    "        inp = input(\"Enter new address: \")\n",
    "        query = \"UPDATE person_data SET Address = '\" + inp + \"' WHERE Address = '\" + info[0]['Address'] + \"';\"\n",
    "        \n",
    "        try:\n",
    "            cursor.execute(query)\n",
    "        except:\n",
    "            print(\"Update error.\")\n",
    "            \n",
    "    elif req == 'name':\n",
    "        inp = input(\"Enter new name: \")\n",
    "        query = \"UPDATE person_data SET Name = '\" + inp + \"' WHERE Name = '\" + info[0]['Name'] + \"';\"\n",
    "        \n",
    "        try:\n",
    "            cursor.execute(query)\n",
    "        except:\n",
    "            print(\"Update error.\")\n",
    "            \n",
    "except:\n",
    "    print(\"Person not found.\")\n",
    "    \n",
    "def update_profile(action, oldInfo):\n",
    "    while action:\n",
    "        if action == 'email':\n",
    "            inp = input(\"Enter new E-Mail: \").lower()\n",
    "            try:\n",
    "                cursor.execute(\"UPDATE person_data SET Email = %s WHERE Email = %s\", inp, oldInfo['Email'])\n",
    "            except:\n",
    "                print(\"Update error\")\n",
    "        elif action == 'phone number':\n",
    "            inp = input(\"Enter new phone number: \")\n",
    "            try:\n",
    "                cursor.execute(\"UPDATE person_data SET PhoneNumber = %s WHERE PhoneNumber = %s\", inp, oldInfo['PhoneNumber'])\n",
    "            except:\n",
    "                print(\"Update error\")\n",
    "        elif action == \"address\":\n",
    "            inp = input(\"Enter new address: \")\n",
    "            try:\n",
    "                cursor.execute(\"UPDATE person_data SET Address %s WHERE Address = %s\", inp, oldInfo['Address'])\n",
    "            except:\n",
    "                print(\"Update error\")\n",
    "        elif action == \"name\":\n",
    "            inp = input(\"Enter new name: \")\n",
    "            try:\n",
    "                cursor.execute(\"UPDATE person_data SET Name %s WHERE Name = %s\", inp, oldInfo['Name'])\n",
    "            except:\n",
    "                print(\"Update error\")\n",
    "        elif action == '':\n",
    "            break\n",
    "        else:\n",
    "            print(\"Invalid action.\")\n",
    "            action = input(\"Would you like to update your email, phone number, address, or name? Leave blank to cancel. \")"
   ]
  },
  {
   "cell_type": "code",
   "execution_count": 30,
   "id": "8728e634",
   "metadata": {
    "scrolled": false
   },
   "outputs": [
    {
     "ename": "ProgrammingError",
     "evalue": "1146 (42S02): Table 'bankdb.person_data' doesn't exist",
     "output_type": "error",
     "traceback": [
      "\u001b[0;31m---------------------------------------------------------------------------\u001b[0m",
      "\u001b[0;31mProgrammingError\u001b[0m                          Traceback (most recent call last)",
      "Cell \u001b[0;32mIn[30], line 3\u001b[0m\n\u001b[1;32m      1\u001b[0m \u001b[38;5;66;03m### Deposit, Transfer, Withdraw Transactions\u001b[39;00m\n\u001b[1;32m      2\u001b[0m query \u001b[38;5;241m=\u001b[39m \u001b[38;5;124m\"\u001b[39m\u001b[38;5;124mCREATE INDEX idx_person_id ON person_data(PersonID);\u001b[39m\u001b[38;5;124m\"\u001b[39m\n\u001b[0;32m----> 3\u001b[0m cursor\u001b[38;5;241m.\u001b[39mexecute(query)\n",
      "File \u001b[0;32m~/anaconda3/lib/python3.11/site-packages/mysql/connector/cursor.py:617\u001b[0m, in \u001b[0;36mMySQLCursor.execute\u001b[0;34m(self, operation, params, multi)\u001b[0m\n\u001b[1;32m    614\u001b[0m     \u001b[38;5;28;01mreturn\u001b[39;00m \u001b[38;5;28mself\u001b[39m\u001b[38;5;241m.\u001b[39m_execute_iter(\u001b[38;5;28mself\u001b[39m\u001b[38;5;241m.\u001b[39m_connection\u001b[38;5;241m.\u001b[39mcmd_query_iter(stmt))\n\u001b[1;32m    616\u001b[0m \u001b[38;5;28;01mtry\u001b[39;00m:\n\u001b[0;32m--> 617\u001b[0m     \u001b[38;5;28mself\u001b[39m\u001b[38;5;241m.\u001b[39m_handle_result(\u001b[38;5;28mself\u001b[39m\u001b[38;5;241m.\u001b[39m_connection\u001b[38;5;241m.\u001b[39mcmd_query(stmt))\n\u001b[1;32m    618\u001b[0m \u001b[38;5;28;01mexcept\u001b[39;00m InterfaceError \u001b[38;5;28;01mas\u001b[39;00m err:\n\u001b[1;32m    619\u001b[0m     \u001b[38;5;28;01mif\u001b[39;00m \u001b[38;5;28mself\u001b[39m\u001b[38;5;241m.\u001b[39m_connection\u001b[38;5;241m.\u001b[39mhave_next_result:\n",
      "File \u001b[0;32m~/anaconda3/lib/python3.11/site-packages/mysql/connector/opentelemetry/context_propagation.py:77\u001b[0m, in \u001b[0;36mwith_context_propagation.<locals>.wrapper\u001b[0;34m(cnx, *args, **kwargs)\u001b[0m\n\u001b[1;32m     75\u001b[0m \u001b[38;5;250m\u001b[39m\u001b[38;5;124;03m\"\"\"Context propagation decorator.\"\"\"\u001b[39;00m\n\u001b[1;32m     76\u001b[0m \u001b[38;5;28;01mif\u001b[39;00m \u001b[38;5;129;01mnot\u001b[39;00m OTEL_ENABLED \u001b[38;5;129;01mor\u001b[39;00m \u001b[38;5;129;01mnot\u001b[39;00m cnx\u001b[38;5;241m.\u001b[39motel_context_propagation:\n\u001b[0;32m---> 77\u001b[0m     \u001b[38;5;28;01mreturn\u001b[39;00m method(cnx, \u001b[38;5;241m*\u001b[39margs, \u001b[38;5;241m*\u001b[39m\u001b[38;5;241m*\u001b[39mkwargs)\n\u001b[1;32m     79\u001b[0m current_span \u001b[38;5;241m=\u001b[39m trace\u001b[38;5;241m.\u001b[39mget_current_span()\n\u001b[1;32m     80\u001b[0m tp_header \u001b[38;5;241m=\u001b[39m \u001b[38;5;28;01mNone\u001b[39;00m\n",
      "File \u001b[0;32m~/anaconda3/lib/python3.11/site-packages/mysql/connector/connection.py:843\u001b[0m, in \u001b[0;36mMySQLConnection.cmd_query\u001b[0;34m(self, query, raw, buffered, raw_as_string)\u001b[0m\n\u001b[1;32m    841\u001b[0m query \u001b[38;5;241m=\u001b[39m \u001b[38;5;28mbytes\u001b[39m(packet)\n\u001b[1;32m    842\u001b[0m \u001b[38;5;28;01mtry\u001b[39;00m:\n\u001b[0;32m--> 843\u001b[0m     result \u001b[38;5;241m=\u001b[39m \u001b[38;5;28mself\u001b[39m\u001b[38;5;241m.\u001b[39m_handle_result(\u001b[38;5;28mself\u001b[39m\u001b[38;5;241m.\u001b[39m_send_cmd(ServerCmd\u001b[38;5;241m.\u001b[39mQUERY, query))\n\u001b[1;32m    844\u001b[0m \u001b[38;5;28;01mexcept\u001b[39;00m ProgrammingError \u001b[38;5;28;01mas\u001b[39;00m err:\n\u001b[1;32m    845\u001b[0m     \u001b[38;5;28;01mif\u001b[39;00m err\u001b[38;5;241m.\u001b[39merrno \u001b[38;5;241m==\u001b[39m \u001b[38;5;241m3948\u001b[39m \u001b[38;5;129;01mand\u001b[39;00m \u001b[38;5;124m\"\u001b[39m\u001b[38;5;124mLoading local data is disabled\u001b[39m\u001b[38;5;124m\"\u001b[39m \u001b[38;5;129;01min\u001b[39;00m err\u001b[38;5;241m.\u001b[39mmsg:\n",
      "File \u001b[0;32m~/anaconda3/lib/python3.11/site-packages/mysql/connector/connection.py:620\u001b[0m, in \u001b[0;36mMySQLConnection._handle_result\u001b[0;34m(self, packet)\u001b[0m\n\u001b[1;32m    618\u001b[0m     \u001b[38;5;28;01mreturn\u001b[39;00m \u001b[38;5;28mself\u001b[39m\u001b[38;5;241m.\u001b[39m_handle_eof(packet)\n\u001b[1;32m    619\u001b[0m \u001b[38;5;28;01mif\u001b[39;00m packet[\u001b[38;5;241m4\u001b[39m] \u001b[38;5;241m==\u001b[39m \u001b[38;5;241m255\u001b[39m:\n\u001b[0;32m--> 620\u001b[0m     \u001b[38;5;28;01mraise\u001b[39;00m get_exception(packet)\n\u001b[1;32m    622\u001b[0m \u001b[38;5;66;03m# We have a text result set\u001b[39;00m\n\u001b[1;32m    623\u001b[0m column_count \u001b[38;5;241m=\u001b[39m \u001b[38;5;28mself\u001b[39m\u001b[38;5;241m.\u001b[39m_protocol\u001b[38;5;241m.\u001b[39mparse_column_count(packet)\n",
      "\u001b[0;31mProgrammingError\u001b[0m: 1146 (42S02): Table 'bankdb.person_data' doesn't exist"
     ]
    }
   ],
   "source": [
    "### Deposit, Transfer, Withdraw Transactions\n",
    "query = \"CREATE INDEX idx_person_id ON person_data(PersonID);\"\n",
    "cursor.execute(query);"
   ]
  },
  {
   "cell_type": "code",
   "execution_count": null,
   "id": "fa040570",
   "metadata": {},
   "outputs": [],
   "source": []
  },
  {
   "cell_type": "code",
   "execution_count": null,
   "id": "ae55c1bf",
   "metadata": {},
   "outputs": [],
   "source": []
  }
 ],
 "metadata": {
  "kernelspec": {
   "display_name": "Python 3 (ipykernel)",
   "language": "python",
   "name": "python3"
  },
  "language_info": {
   "codemirror_mode": {
    "name": "ipython",
    "version": 3
   },
   "file_extension": ".py",
   "mimetype": "text/x-python",
   "name": "python",
   "nbconvert_exporter": "python",
   "pygments_lexer": "ipython3",
   "version": "3.11.5"
  }
 },
 "nbformat": 4,
 "nbformat_minor": 5
}
