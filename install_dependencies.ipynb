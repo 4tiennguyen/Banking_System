{
 "cells": [
  {
   "cell_type": "code",
   "execution_count": null,
   "id": "c444dc62",
   "metadata": {},
   "outputs": [],
   "source": [
    "import subprocess\n",
    "# List of required libraries\n",
    "libraries = [\n",
    "    'pandas',\n",
    "    'pymysql',\n",
    "    'Faker',\n",
    "    'datetime',\n",
    "    'pytz'\n",
    "]\n",
    "# Install each library using pip\n",
    "for library in libraries:\n",
    "    subprocess.run(['pip', 'install', library])\n",
    "\n",
    "print(\"Dependencies installed successfully.\")\n"
   ]
  }
 ],
 "metadata": {
  "kernelspec": {
   "display_name": "Python 3 (ipykernel)",
   "language": "python",
   "name": "python3"
  },
  "language_info": {
   "codemirror_mode": {
    "name": "ipython",
    "version": 3
   },
   "file_extension": ".py",
   "mimetype": "text/x-python",
   "name": "python",
   "nbconvert_exporter": "python",
   "pygments_lexer": "ipython3",
   "version": "3.9.7"
  }
 },
 "nbformat": 4,
 "nbformat_minor": 5
}
